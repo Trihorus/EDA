{
 "cells": [
  {
   "cell_type": "code",
   "execution_count": 155,
   "id": "ba15e9e3",
   "metadata": {},
   "outputs": [],
   "source": [
    "# import libraries\n",
    "\n",
    "from bs4 import BeautifulSoup\n",
    "import requests\n",
    "import time\n",
    "import datetime\n",
    "import smtplib\n",
    "import csv\n",
    "import pandas as pd\n",
    "\n",
    "from selenium import webdriver\n",
    "from webdriver_manager.chrome import ChromeDriverManager\n",
    "import time\n",
    "import datetime"
   ]
  },
  {
   "cell_type": "code",
   "execution_count": 128,
   "id": "be25fa6b",
   "metadata": {},
   "outputs": [
    {
     "name": "stdout",
     "output_type": "stream",
     "text": [
      "\n",
      "                         1,199\n",
      "                         \n",
      "                          .\n",
      "                         \n",
      "\n"
     ]
    }
   ],
   "source": [
    "# connect to the website & getting data\n",
    "\n",
    "URL = 'https://www.amazon.in/BLACK-DECKER-KX1800-1800-Watt-Temperature/dp/B00ICIIXRE/ref=sr_1_4?keywords=All+Product&qid=1643913580&rnid=5866078031&s=industrial&sr=1-4'\n",
    "\n",
    "headers = {\"User-Agent\": \"Mozilla/5.0 (Windows NT 10.0; Win64; x64) AppleWebKit/537.36 (KHTML, like Gecko) Chrome/97.0.4692.99 Safari/537.36\"}\n",
    "\n",
    "page = requests.get(URL, headers=headers)\n",
    "\n",
    "soup1 = BeautifulSoup(page.content, \"html.parser\")\n",
    "\n",
    "soup2 = BeautifulSoup(soup1.prettify(), \"html.parser\")\n",
    "\n",
    "title = soup2.find(id='productTitle').get_text()\n",
    "\n",
    "price = soup2.find(\"span\",class_='a-price-whole').get_text()\n",
    "\n",
    "# price.strip()\n",
    "\n",
    "# print(title)\n",
    "print(price)\n",
    "\n",
    "# print(type(price))\n",
    "\n"
   ]
  },
  {
   "cell_type": "code",
   "execution_count": 135,
   "id": "ae7433d9",
   "metadata": {},
   "outputs": [
    {
     "name": "stdout",
     "output_type": "stream",
     "text": [
      "['1,199']\n"
     ]
    }
   ],
   "source": [
    "#  cleaning and extracting price data\n",
    "\n",
    "def Convert(s):\n",
    "    lst = list(s.split(\" \"))\n",
    "    return lst\n",
    "\n",
    "price_new = Convert(price)\n",
    "print(price_new)\n",
    "price_new = str(price_new)\n",
    "# a = str(price_new[25])\n",
    "# price = a.strip()[:5]\n",
    "# print(price)"
   ]
  },
  {
   "cell_type": "code",
   "execution_count": 136,
   "id": "7d4c2d3c",
   "metadata": {},
   "outputs": [
    {
     "name": "stdout",
     "output_type": "stream",
     "text": [
      "BLACK+DECKER KX1800-B1 Dual Temperature High Speed Heat Gun For Removing & Drying Paint Coats, Remelting Adhesives & Shrink Wrapping, 1800 Watts (Orange and Black)\n"
     ]
    }
   ],
   "source": [
    "title = title.strip()\n",
    "print(title)"
   ]
  },
  {
   "cell_type": "code",
   "execution_count": 138,
   "id": "a4ad6d3c",
   "metadata": {},
   "outputs": [
    {
     "name": "stdout",
     "output_type": "stream",
     "text": [
      "4.4\n"
     ]
    }
   ],
   "source": [
    "#  cleaning and extracting star's gained data\n",
    "\n",
    "star = soup2.find(\"span\",class_='a-icon-alt').get_text()\n",
    "star = star.strip()\n",
    "rating = star.strip()[:3]\n",
    "print(rating)"
   ]
  },
  {
   "cell_type": "code",
   "execution_count": 17,
   "id": "449870bb",
   "metadata": {},
   "outputs": [
    {
     "name": "stdout",
     "output_type": "stream",
     "text": [
      "None\n"
     ]
    }
   ],
   "source": [
    "table = soup2.find(\"table\", id = \"productDetails_techSpec_section_1\")\n",
    "print(table)\n",
    "# rows = table.findAll('tr')\n",
    "\n",
    "# table_data = table.tbody.find_all(\"tr\")"
   ]
  },
  {
   "cell_type": "code",
   "execution_count": 3,
   "id": "44978c96",
   "metadata": {},
   "outputs": [
    {
     "name": "stderr",
     "output_type": "stream",
     "text": [
      "\n",
      "\n",
      "====== WebDriver manager ======\n",
      "Current google-chrome version is 97.0.4692\n",
      "Get LATEST chromedriver version for 97.0.4692 google-chrome\n",
      "Driver [C:\\Users\\Themistocles\\.wdm\\drivers\\chromedriver\\win32\\97.0.4692.71\\chromedriver.exe] found in cache\n",
      "C:\\Users\\THEMIS~1\\AppData\\Local\\Temp/ipykernel_20752/1305764868.py:3: DeprecationWarning: executable_path has been deprecated, please pass in a Service object\n",
      "  driver = webdriver.Chrome(ChromeDriverManager().install())\n"
     ]
    },
    {
     "name": "stdout",
     "output_type": "stream",
     "text": [
      "Color\n",
      "                    \n",
      "\n",
      "                     ‎Orange and Black\n",
      "                    \n",
      "\n",
      "\n",
      "\n",
      "                     Product Dimensions\n",
      "                    \n",
      "\n",
      "                     ‎20 x 10 x 30 cm; 770 Grams\n",
      "                    \n",
      "\n",
      "\n",
      "\n",
      "                     Shipping Weight\n",
      "                    \n",
      "\n",
      "                     ‎0.77 Kilograms\n",
      "                    \n",
      "\n",
      "\n",
      "\n",
      "                     Item Model Number\n",
      "                    \n",
      "\n",
      "                     ‎KX1800\n",
      "                    \n",
      "\n",
      "\n",
      "\n",
      "                     Item Part Number\n",
      "                    \n",
      "\n",
      "                     ‎KX1800-B1\n",
      "                    \n",
      "\n",
      "\n",
      "\n",
      "                     Primary material\n",
      "                    \n",
      "\n",
      "                     ‎Plastic\n",
      "                    \n",
      "\n",
      "\n",
      "\n",
      "                     Capacity\n",
      "                    \n",
      "\n",
      "                     ‎11X14\n",
      "                    \n",
      "\n",
      "\n",
      "\n",
      "                     Number of Pieces\n",
      "                    \n",
      "\n",
      "                     ‎1\n",
      "                    \n",
      "\n",
      "\n",
      "\n",
      "                     What is in the box?\n",
      "                    \n",
      "\n",
      "                     ‎Package contents: 1 Heat Gun\n",
      "                    \n",
      "\n",
      "\n",
      "\n",
      "                     Manufacturer\n",
      "                    \n",
      "\n",
      "                     ‎Black & Decker\n",
      "                    \n",
      "\n",
      "\n",
      "\n",
      "                     Country of Origin\n",
      "                    \n",
      "\n",
      "                     ‎China\n"
     ]
    }
   ],
   "source": [
    "# getting data from the tables in Amazon website\n",
    "\n",
    "driver = webdriver.Chrome(ChromeDriverManager().install())\n",
    "url= \"https://www.amazon.in/BLACK-DECKER-KX1800-1800-Watt-Temperature/dp/B00ICIIXRE/ref=sr_1_4?keywords=All%2BProduct&qid=1643913580&rnid=5866078031&s=industrial&sr=1-4&th=1\"\n",
    "driver.maximize_window()\n",
    "driver.get(url)\n",
    "\n",
    "time.sleep(5)\n",
    "content = driver.page_source.encode('utf-8').strip()\n",
    "soup = BeautifulSoup(content,\"html.parser\")\n",
    "soup3 = BeautifulSoup(soup.prettify(), \"html.parser\")\n",
    "\n",
    "table = soup3.findAll(\"table\",{\"id\":\"productDetails_techSpec_section_1\"})\n",
    "prod = soup3.findAll(\"td\",{\"class\":\"prodDetAttrValue\"})\n",
    "# print(prod)\n",
    "# rows = table.find('tr')\n",
    "# print(rows)\n",
    "\n",
    "# for row in table.tbody.find_all('tr'):    \n",
    "#     # Find all data for each column\n",
    "#     columns = row.find_all('td')\n",
    "#     print(columns)\n",
    "#     if(columns != []):\n",
    "#         first = columns[0].text.strip()\n",
    "# #         second = columns[1].text.strip()\n",
    "# # print(first)\n",
    "\n",
    "\n",
    "for item in table:\n",
    "#     print(str(tr))\n",
    "#     print(item.get_text())\n",
    "    item_lst = item.get_text()\n",
    "    lst = item_lst.strip()\n",
    "print(lst)\n",
    "    \n",
    "  \n",
    "\n",
    "# x = item_lst.strip(\"_\")\n",
    "# new_lst = list(lst.split(\" \"))\n",
    "# y = str(new_lst)\n",
    "# x = y.strip(',') \n",
    "# print(new_lst[21])\n",
    "# print(new_lst[34])\n",
    "# print(new_lst)\n",
    "   \n",
    "\n",
    "driver.quit()"
   ]
  },
  {
   "cell_type": "code",
   "execution_count": 147,
   "id": "b7c1dff0",
   "metadata": {},
   "outputs": [
    {
     "name": "stdout",
     "output_type": "stream",
     "text": [
      "China\n"
     ]
    }
   ],
   "source": [
    "#  getting additional data\n",
    "\n",
    "def remove(string):\n",
    "    return string.replace(\" \", \"\")\n",
    "      \n",
    "# Driver Program\n",
    "string = lst\n",
    "x = remove(string)\n",
    "# print(x[:5])\n",
    "\n",
    "color = x[9:23]\n",
    "# color = str(color)\n",
    "# print(color)\n",
    "\n",
    "dim = x[49:59]\n",
    "# print(dim)\n",
    "\n",
    "weight = x[91:104]\n",
    "# print(weight)\n",
    "\n",
    "model = x[128:134]\n",
    "# print(model)\n",
    "\n",
    "part_num = x[157: 166]\n",
    "# print(part_num)\n",
    "\n",
    "material = x[190:197]\n",
    "# print(material)\n",
    "\n",
    "capacity = x[214:219]\n",
    "# print(capacity)\n",
    "\n",
    "quantity = x[242:243]\n",
    "# print(quantity)\n",
    "\n",
    "contents = x[283:291]\n",
    "# print(manufacturer)\n",
    "\n",
    "manufacturer = x[312:324]\n",
    "# print(origin)\n",
    "\n",
    "origin = x[348: 355]\n",
    "print(origin)"
   ]
  },
  {
   "cell_type": "code",
   "execution_count": 153,
   "id": "31cd7bca",
   "metadata": {},
   "outputs": [
    {
     "name": "stdout",
     "output_type": "stream",
     "text": [
      "2022-02-06\n"
     ]
    }
   ],
   "source": [
    "#  adding date of data collected\n",
    "\n",
    "today = datetime.date.today()\n",
    "print(today)"
   ]
  },
  {
   "cell_type": "code",
   "execution_count": 154,
   "id": "b8e6e8fa",
   "metadata": {},
   "outputs": [],
   "source": [
    " header = ['Title', 'Price', 'Rating', 'Color', 'Dimensions', 'Weight', 'Model', 'Part_Number', 'Material', 'Capacity', 'Quantity', 'Contents', 'Manufacturer', 'Origin', 'Date' ]\n",
    " data = [title, price_new, rating, color, dim, weight, model, part_num, material, capacity, quantity, contents, manufacturer, origin, today]  \n",
    "\n",
    "with open('AmazonData.csv', 'w', newline='', encoding='UTF8') as f:\n",
    "    writer = csv.writer(f)\n",
    "    writer.writerow(header)\n",
    "    writer.writerow(data)"
   ]
  },
  {
   "cell_type": "code",
   "execution_count": 163,
   "id": "800c9c95",
   "metadata": {},
   "outputs": [
    {
     "name": "stdout",
     "output_type": "stream",
     "text": [
      "                                               Title  \\\n",
      "0  BLACK+DECKER KX1800-B1 Dual Temperature High S...   \n",
      "1  BLACK+DECKER KX1800-B1 Dual Temperature High S...   \n",
      "2  BLACK+DECKER KX1800-B1 Dual Temperature High S...   \n",
      "\n",
      "                                               Price  Rating           Color  \\\n",
      "0                                          ['1,199']     4.4  OrangeandBlack   \n",
      "1                                          ['1,199']     4.4  OrangeandBlack   \n",
      "2  ['\\n', '', '', '', '', '', '', '', '', '', '',...     4.4  OrangeandBlack   \n",
      "\n",
      "   Dimensions         Weight   Model Part_Number Material Capacity  Quantity  \\\n",
      "0  20x10x30cm  0.77Kilograms  KX1800   KX1800-B1  Plastic    11X14         1   \n",
      "1  20x10x30cm  0.77Kilograms  KX1800   KX1800-B1  Plastic    11X14         1   \n",
      "2  20x10x30cm  0.77Kilograms  KX1800   KX1800-B1  Plastic    11X14         1   \n",
      "\n",
      "   Contents  Manufacturer Origin        Date  \n",
      "0  1HeatGun  Black&Decker  China  2022-02-06  \n",
      "1  1HeatGun  Black&Decker  China  2022-02-06  \n",
      "2  1HeatGun  Black&Decker  China  2022-02-06  \n"
     ]
    }
   ],
   "source": [
    "df = pd.read_csv('AmazonData.csv')\n",
    "print(df)"
   ]
  },
  {
   "cell_type": "code",
   "execution_count": 157,
   "id": "d17a003a",
   "metadata": {},
   "outputs": [],
   "source": [
    "#  appending data to the csv\n",
    "\n",
    "with open('AmazonData.csv', 'a+', newline='', encoding='UTF8') as f:\n",
    "    writer = csv.writer(f)\n",
    "    writer.writerow(data)"
   ]
  },
  {
   "cell_type": "code",
   "execution_count": 161,
   "id": "9990c709",
   "metadata": {},
   "outputs": [],
   "source": [
    "#  automating the process\n",
    "\n",
    "def auto_collect():\n",
    "    URL = 'https://www.amazon.in/BLACK-DECKER-KX1800-1800-Watt-Temperature/dp/B00ICIIXRE/ref=sr_1_4?keywords=All+Product&qid=1643913580&rnid=5866078031&s=industrial&sr=1-4'\n",
    "\n",
    "    headers = {\"User-Agent\": \"Mozilla/5.0 (Windows NT 10.0; Win64; x64) AppleWebKit/537.36 (KHTML, like Gecko) Chrome/97.0.4692.99 Safari/537.36\"}\n",
    "\n",
    "    page = requests.get(URL, headers=headers)\n",
    "\n",
    "    soup1 = BeautifulSoup(page.content, \"html.parser\")\n",
    "\n",
    "    soup2 = BeautifulSoup(soup1.prettify(), \"html.parser\")\n",
    "\n",
    "    title = soup2.find(id='productTitle').get_text()\n",
    "\n",
    "    price = soup2.find(\"span\",class_='a-price-whole').get_text()\n",
    "    \n",
    "    def Convert(s):\n",
    "        lst = list(s.split(\" \"))\n",
    "        return lst\n",
    "\n",
    "    price_new = Convert(price)\n",
    "#     print(price_new)\n",
    "    price_new = str(price_new)\n",
    "    \n",
    "    title = title.strip()\n",
    "    \n",
    "    star = soup2.find(\"span\",class_='a-icon-alt').get_text()\n",
    "    star = star.strip()\n",
    "    rating = star.strip()[:3]\n",
    "    \n",
    "    driver = webdriver.Chrome(ChromeDriverManager().install())\n",
    "    url= \"https://www.amazon.in/BLACK-DECKER-KX1800-1800-Watt-Temperature/dp/B00ICIIXRE/ref=sr_1_4?keywords=All%2BProduct&qid=1643913580&rnid=5866078031&s=industrial&sr=1-4&th=1\"\n",
    "    driver.maximize_window()\n",
    "    driver.get(url)\n",
    "\n",
    "    time.sleep(5)\n",
    "    content = driver.page_source.encode('utf-8').strip()\n",
    "    soup = BeautifulSoup(content,\"html.parser\")\n",
    "    soup3 = BeautifulSoup(soup.prettify(), \"html.parser\")\n",
    "\n",
    "    table = soup3.findAll(\"table\",{\"id\":\"productDetails_techSpec_section_1\"})\n",
    "    prod = soup3.findAll(\"td\",{\"class\":\"prodDetAttrValue\"})\n",
    "    \n",
    "    for item in table:\n",
    "#     print(str(tr))\n",
    "#     print(item.get_text())\n",
    "        item_lst = item.get_text()\n",
    "        lst = item_lst.strip()\n",
    "    \n",
    "    driver.quit()\n",
    "    \n",
    "    def remove(string):\n",
    "        return string.replace(\" \", \"\")\n",
    "      \n",
    "# Driver Program\n",
    "    string = lst\n",
    "    x = remove(string)\n",
    "# print(x[:5])\n",
    "\n",
    "    color = x[9:23]\n",
    "# color = str(color)\n",
    "# print(color)\n",
    "    \n",
    "    dim = x[49:59]\n",
    "# print(dim)\n",
    "\n",
    "    weight = x[91:104]\n",
    "# print(weight)\n",
    "\n",
    "    model = x[128:134]\n",
    "# print(model)\n",
    "\n",
    "    part_num = x[157: 166]\n",
    "# print(part_num)\n",
    "\n",
    "    material = x[190:197]\n",
    "# print(material)\n",
    "\n",
    "    capacity = x[214:219]\n",
    "# print(capacity)\n",
    "\n",
    "    quantity = x[242:243]\n",
    "# print(quantity)\n",
    "\n",
    "    contents = x[283:291]\n",
    "# print(manufacturer)\n",
    "\n",
    "    manufacturer = x[312:324]\n",
    "# print(origin)\n",
    "\n",
    "    origin = x[348: 355]\n",
    "# print(origin)\n",
    "    today = datetime.date.today()\n",
    "    \n",
    "    \n",
    "    header = ['Title', 'Price', 'Rating', 'Color', 'Dimensions', 'Weight', 'Model', 'Part_Number', 'Material', 'Capacity', 'Quantity', 'Contents', 'Manufacturer', 'Origin', 'Date' ]\n",
    "    data = [title, price_new, rating, color, dim, weight, model, part_num, material, capacity, quantity, contents, manufacturer, origin, today]  \n",
    "    \n",
    "    with open('AmazonData.csv', 'a+', newline='', encoding='UTF8') as f:\n",
    "        writer = csv.writer(f)\n",
    "        writer.writerow(data)\n",
    "        \n",
    "     if(price_new < 1500):\n",
    "        send_mail()\n",
    "    "
   ]
  },
  {
   "cell_type": "code",
   "execution_count": 162,
   "id": "1ea21fb3",
   "metadata": {},
   "outputs": [
    {
     "name": "stderr",
     "output_type": "stream",
     "text": [
      "\n",
      "\n",
      "====== WebDriver manager ======\n",
      "Current google-chrome version is 97.0.4692\n",
      "Get LATEST chromedriver version for 97.0.4692 google-chrome\n",
      "Driver [C:\\Users\\Themistocles\\.wdm\\drivers\\chromedriver\\win32\\97.0.4692.71\\chromedriver.exe] found in cache\n",
      "C:\\Users\\THEMIS~1\\AppData\\Local\\Temp/ipykernel_20752/3997316891.py:32: DeprecationWarning: executable_path has been deprecated, please pass in a Service object\n",
      "  driver = webdriver.Chrome(ChromeDriverManager().install())\n"
     ]
    }
   ],
   "source": [
    "while(True):\n",
    "    auto_collect()\n",
    "    time.sleep(86400) "
   ]
  },
  {
   "cell_type": "code",
   "execution_count": 174,
   "id": "260c9f84",
   "metadata": {},
   "outputs": [],
   "source": [
    "# sending e-mail\n",
    "\n",
    "def send_mail():\n",
    "    server = smtplib.SMTP_SSL('smtp.gmail.com', 465)\n",
    "    server.ehlo()\n",
    "#     server.starttls()\n",
    "    server.login('ujjawal.raptor@gmail.com', '********************')\n",
    "    \n",
    "    subject = \"The tool you want is below Rs. 1200! Now is your chance to buy\"\n",
    "    body = \"This is the moment you've been waiting for, this your chance to buy the tool\"\n",
    "    \n",
    "    msg = f\"Subject: {subject}\\n\\n{body}\"\n",
    "    \n",
    "    server.sendmail(\n",
    "        'ujjawal.raptor@gmail.com',\n",
    "        'c31ujjwal@gmail.com',\n",
    "        msg\n",
    "    )\n",
    "    \n",
    "send_mail()    "
   ]
  },
  {
   "cell_type": "code",
   "execution_count": null,
   "id": "4e3fb8c9",
   "metadata": {},
   "outputs": [],
   "source": []
  }
 ],
 "metadata": {
  "kernelspec": {
   "display_name": "Python 3 (ipykernel)",
   "language": "python",
   "name": "python3"
  },
  "language_info": {
   "codemirror_mode": {
    "name": "ipython",
    "version": 3
   },
   "file_extension": ".py",
   "mimetype": "text/x-python",
   "name": "python",
   "nbconvert_exporter": "python",
   "pygments_lexer": "ipython3",
   "version": "3.8.7"
  }
 },
 "nbformat": 4,
 "nbformat_minor": 5
}
